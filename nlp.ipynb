{
  "nbformat": 4,
  "nbformat_minor": 0,
  "metadata": {
    "colab": {
      "provenance": [],
      "authorship_tag": "ABX9TyN9e86dzz86pBHY6iOYPx8p",
      "include_colab_link": true
    },
    "kernelspec": {
      "name": "python3",
      "display_name": "Python 3"
    },
    "language_info": {
      "name": "python"
    }
  },
  "cells": [
    {
      "cell_type": "markdown",
      "metadata": {
        "id": "view-in-github",
        "colab_type": "text"
      },
      "source": [
        "<a href=\"https://colab.research.google.com/github/darshbaxi/Tensorflow-Practice/blob/main/nlp.ipynb\" target=\"_parent\"><img src=\"https://colab.research.google.com/assets/colab-badge.svg\" alt=\"Open In Colab\"/></a>"
      ]
    },
    {
      "cell_type": "code",
      "execution_count": 23,
      "metadata": {
        "colab": {
          "base_uri": "https://localhost:8080/"
        },
        "id": "BdW_ANi1TImh",
        "outputId": "1b8b0822-e7b6-4408-84dc-690e6c58c446"
      },
      "outputs": [
        {
          "output_type": "stream",
          "name": "stdout",
          "text": [
            "Requirement already satisfied: nltk in /usr/local/lib/python3.10/dist-packages (3.8.1)\n",
            "Requirement already satisfied: click in /usr/local/lib/python3.10/dist-packages (from nltk) (8.1.6)\n",
            "Requirement already satisfied: joblib in /usr/local/lib/python3.10/dist-packages (from nltk) (1.3.1)\n",
            "Requirement already satisfied: regex>=2021.8.3 in /usr/local/lib/python3.10/dist-packages (from nltk) (2022.10.31)\n",
            "Requirement already satisfied: tqdm in /usr/local/lib/python3.10/dist-packages (from nltk) (4.65.0)\n"
          ]
        }
      ],
      "source": [
        "!pip install nltk\n"
      ]
    },
    {
      "cell_type": "code",
      "source": [
        "para=\"\"\" Mahendra Singh Dhoni\n",
        " is an Indian professional cricketer. He was captain of the Indian national team in limited-overs formats from 2007 to 2017 and in Test cricket from 2008 to 2014. Dhoni is widely considered one of the greatest cricket captains, wicket-keeper-batsman and finishers in the history of cricket. He plays as a right-handed wicket-keeper-batsman and is known for his calm captaincy and his ability to finish matches in tight situations\n",
        " . He is also the current captain of Chennai Super Kings in the Indian Premier League. Born in Ranchi, Bihar (now in Jharkhand),[8][9] His exceptional wicketkeeping skills allowed him to become the regular wicketkeeper at the Commando Cricket Club (1995–1998), he was picked for the 1997/98 season Vinoo Mankad Trophy Under-16 Championship, where he performed well. From 2001 to 2003, He worked as a Travelling Ticket Examiner at Kharagpur railway station under South Eastern Railway in Midnapore, in West Bengal.\n",
        " In Indian domestic cricket he played for Bihar and then for Jharkhand Cricket team. Dhoni's performance in the 2002–03 season included three half-centuries in the Ranji Trophy and a couple of half-centuries in the Deodhar Trophy, as he started gaining recognition for his lower-order contribution as well as hard-hitting batting style.\n",
        " \"\"\""
      ],
      "metadata": {
        "id": "nsmdiZWGTT1k"
      },
      "execution_count": 24,
      "outputs": []
    },
    {
      "cell_type": "code",
      "source": [
        "para"
      ],
      "metadata": {
        "colab": {
          "base_uri": "https://localhost:8080/",
          "height": 123
        },
        "id": "l3TWJjp_Vl_u",
        "outputId": "44575cf7-6f92-48d4-e139-4e1f2306c34f"
      },
      "execution_count": 25,
      "outputs": [
        {
          "output_type": "execute_result",
          "data": {
            "text/plain": [
              "\" Mahendra Singh Dhoni\\n is an Indian professional cricketer. He was captain of the Indian national team in limited-overs formats from 2007 to 2017 and in Test cricket from 2008 to 2014. Dhoni is widely considered one of the greatest cricket captains, wicket-keeper-batsman and finishers in the history of cricket. He plays as a right-handed wicket-keeper-batsman and is known for his calm captaincy and his ability to finish matches in tight situations\\n . He is also the current captain of Chennai Super Kings in the Indian Premier League. Born in Ranchi, Bihar (now in Jharkhand),[8][9] His exceptional wicketkeeping skills allowed him to become the regular wicketkeeper at the Commando Cricket Club (1995–1998), he was picked for the 1997/98 season Vinoo Mankad Trophy Under-16 Championship, where he performed well. From 2001 to 2003, He worked as a Travelling Ticket Examiner at Kharagpur railway station under South Eastern Railway in Midnapore, in West Bengal.\\n In Indian domestic cricket he played for Bihar and then for Jharkhand Cricket team. Dhoni's performance in the 2002–03 season included three half-centuries in the Ranji Trophy and a couple of half-centuries in the Deodhar Trophy, as he started gaining recognition for his lower-order contribution as well as hard-hitting batting style.\\n \""
            ],
            "application/vnd.google.colaboratory.intrinsic+json": {
              "type": "string"
            }
          },
          "metadata": {},
          "execution_count": 25
        }
      ]
    },
    {
      "cell_type": "code",
      "source": [
        "import nltk"
      ],
      "metadata": {
        "id": "BPAzi17kVm59"
      },
      "execution_count": 26,
      "outputs": []
    },
    {
      "cell_type": "code",
      "source": [
        "from nltk.stem import PorterStemmer as ps\n",
        "from nltk.stem import WordNetLemmatizer as wl\n",
        "from nltk.corpus import stopwords"
      ],
      "metadata": {
        "id": "OwyrZpAFWWBY"
      },
      "execution_count": 27,
      "outputs": []
    },
    {
      "cell_type": "markdown",
      "source": [
        "## **Tokenization --> convert paragraph->sentence->words**"
      ],
      "metadata": {
        "id": "SN0Qg5QvlZwg"
      }
    },
    {
      "cell_type": "code",
      "source": [
        "\n",
        "\n",
        "\n",
        "nltk.download('punkt')\n",
        "senc=nltk.sent_tokenize(para)"
      ],
      "metadata": {
        "colab": {
          "base_uri": "https://localhost:8080/"
        },
        "id": "XoJwXQT2WoOv",
        "outputId": "99904873-631a-4448-cb99-d625bcd59b43"
      },
      "execution_count": 28,
      "outputs": [
        {
          "output_type": "stream",
          "name": "stderr",
          "text": [
            "[nltk_data] Downloading package punkt to /root/nltk_data...\n",
            "[nltk_data]   Package punkt is already up-to-date!\n"
          ]
        }
      ]
    },
    {
      "cell_type": "code",
      "source": [
        "senc"
      ],
      "metadata": {
        "colab": {
          "base_uri": "https://localhost:8080/"
        },
        "id": "u28E6O1JXQVh",
        "outputId": "1811b304-b471-40d3-e8e6-07e5f7ce39ee"
      },
      "execution_count": 29,
      "outputs": [
        {
          "output_type": "execute_result",
          "data": {
            "text/plain": [
              "[' Mahendra Singh Dhoni\\n is an Indian professional cricketer.',\n",
              " 'He was captain of the Indian national team in limited-overs formats from 2007 to 2017 and in Test cricket from 2008 to 2014.',\n",
              " 'Dhoni is widely considered one of the greatest cricket captains, wicket-keeper-batsman and finishers in the history of cricket.',\n",
              " 'He plays as a right-handed wicket-keeper-batsman and is known for his calm captaincy and his ability to finish matches in tight situations\\n .',\n",
              " 'He is also the current captain of Chennai Super Kings in the Indian Premier League.',\n",
              " 'Born in Ranchi, Bihar (now in Jharkhand),[8][9] His exceptional wicketkeeping skills allowed him to become the regular wicketkeeper at the Commando Cricket Club (1995–1998), he was picked for the 1997/98 season Vinoo Mankad Trophy Under-16 Championship, where he performed well.',\n",
              " 'From 2001 to 2003, He worked as a Travelling Ticket Examiner at Kharagpur railway station under South Eastern Railway in Midnapore, in West Bengal.',\n",
              " 'In Indian domestic cricket he played for Bihar and then for Jharkhand Cricket team.',\n",
              " \"Dhoni's performance in the 2002–03 season included three half-centuries in the Ranji Trophy and a couple of half-centuries in the Deodhar Trophy, as he started gaining recognition for his lower-order contribution as well as hard-hitting batting style.\"]"
            ]
          },
          "metadata": {},
          "execution_count": 29
        }
      ]
    },
    {
      "cell_type": "markdown",
      "source": [
        "## **Removing special character**\n",
        "\n"
      ],
      "metadata": {
        "id": "wGNX5Epjkkug"
      }
    },
    {
      "cell_type": "code",
      "source": [
        "#re.sub(pattern, repl, string, count=0, flags=0)\n",
        "\n",
        "\n",
        "\"\"\"\n",
        "pattern\t     [Mandatory] The pattern which has to be found in the string.\n",
        "repl\t       [Mandatory] The value which has to be replaced in the string in place of matched pattern.\n",
        "string\t     [Mandatory] The string in which the replacement has to be done.\n",
        "count\t       [Optional] The maximum number of pattern occurrences to be replaced.\n",
        "flags\t       [Optional] Optional flags like re.IGNORECASE, etc.\n",
        "\"\"\""
      ],
      "metadata": {
        "id": "J9gsu0GIiaq0",
        "colab": {
          "base_uri": "https://localhost:8080/",
          "height": 70
        },
        "outputId": "4d33e5cd-2274-4b76-eb09-dc7425af69e6"
      },
      "execution_count": 30,
      "outputs": [
        {
          "output_type": "execute_result",
          "data": {
            "text/plain": [
              "'\\npattern\\t     [Mandatory] The pattern which has to be found in the string.\\nrepl\\t       [Mandatory] The value which has to be replaced in the string in place of matched pattern.\\nstring\\t     [Mandatory] The string in which the replacement has to be done.\\ncount\\t       [Optional] The maximum number of pattern occurrences to be replaced.\\nflags\\t       [Optional] Optional flags like re.IGNORECASE, etc.\\n'"
            ],
            "application/vnd.google.colaboratory.intrinsic+json": {
              "type": "string"
            }
          },
          "metadata": {},
          "execution_count": 30
        }
      ]
    },
    {
      "cell_type": "code",
      "source": [
        "import re\n",
        "corpus=[]\n",
        "lemmitizer=[]\n",
        "stemm=[]\n",
        "for i in range(len(senc)):\n",
        "  clean=re.sub('[^a-zA-Z]',' ',senc[i])\n",
        "  clean=clean.lower()\n",
        "  corpus.append(clean)\n"
      ],
      "metadata": {
        "id": "b2BrD4oplbAd"
      },
      "execution_count": 31,
      "outputs": []
    },
    {
      "cell_type": "code",
      "source": [
        "corpus"
      ],
      "metadata": {
        "colab": {
          "base_uri": "https://localhost:8080/"
        },
        "id": "FeU6NcYNlIhO",
        "outputId": "d0214e11-2d51-4189-fae9-4aae7e123281"
      },
      "execution_count": 32,
      "outputs": [
        {
          "output_type": "execute_result",
          "data": {
            "text/plain": [
              "[' mahendra singh dhoni  is an indian professional cricketer ',\n",
              " 'he was captain of the indian national team in limited overs formats from      to      and in test cricket from      to      ',\n",
              " 'dhoni is widely considered one of the greatest cricket captains  wicket keeper batsman and finishers in the history of cricket ',\n",
              " 'he plays as a right handed wicket keeper batsman and is known for his calm captaincy and his ability to finish matches in tight situations   ',\n",
              " 'he is also the current captain of chennai super kings in the indian premier league ',\n",
              " 'born in ranchi  bihar  now in jharkhand         his exceptional wicketkeeping skills allowed him to become the regular wicketkeeper at the commando cricket club              he was picked for the         season vinoo mankad trophy under    championship  where he performed well ',\n",
              " 'from      to       he worked as a travelling ticket examiner at kharagpur railway station under south eastern railway in midnapore  in west bengal ',\n",
              " 'in indian domestic cricket he played for bihar and then for jharkhand cricket team ',\n",
              " 'dhoni s performance in the         season included three half centuries in the ranji trophy and a couple of half centuries in the deodhar trophy  as he started gaining recognition for his lower order contribution as well as hard hitting batting style ']"
            ]
          },
          "metadata": {},
          "execution_count": 32
        }
      ]
    },
    {
      "cell_type": "markdown",
      "source": [
        "## ***Stemming***\n",
        "\n",
        "\n"
      ],
      "metadata": {
        "id": "ZO9gX57Kkat_"
      }
    },
    {
      "cell_type": "code",
      "source": [
        "nltk.download('stopwords')\n",
        "stemmer=ps()"
      ],
      "metadata": {
        "colab": {
          "base_uri": "https://localhost:8080/"
        },
        "id": "LoFPszXBlNIw",
        "outputId": "486d86c1-9ccf-46fe-9081-07f2a31b6f19"
      },
      "execution_count": 33,
      "outputs": [
        {
          "output_type": "stream",
          "name": "stderr",
          "text": [
            "[nltk_data] Downloading package stopwords to /root/nltk_data...\n",
            "[nltk_data]   Package stopwords is already up-to-date!\n"
          ]
        }
      ]
    },
    {
      "cell_type": "code",
      "source": [
        "\n",
        "for i in corpus:\n",
        "  word=nltk.word_tokenize(i)\n",
        "  for j in word:\n",
        "    if j not in set(stopwords.words('english')):\n",
        "      print(stemmer.stem(j))"
      ],
      "metadata": {
        "id": "WPxahemBmmFc",
        "colab": {
          "base_uri": "https://localhost:8080/"
        },
        "outputId": "10e2f1ac-6544-4c2b-eb1d-348c8f00dc9b"
      },
      "execution_count": 34,
      "outputs": [
        {
          "output_type": "stream",
          "name": "stdout",
          "text": [
            "mahendra\n",
            "singh\n",
            "dhoni\n",
            "indian\n",
            "profession\n",
            "cricket\n",
            "captain\n",
            "indian\n",
            "nation\n",
            "team\n",
            "limit\n",
            "over\n",
            "format\n",
            "test\n",
            "cricket\n",
            "dhoni\n",
            "wide\n",
            "consid\n",
            "one\n",
            "greatest\n",
            "cricket\n",
            "captain\n",
            "wicket\n",
            "keeper\n",
            "batsman\n",
            "finish\n",
            "histori\n",
            "cricket\n",
            "play\n",
            "right\n",
            "hand\n",
            "wicket\n",
            "keeper\n",
            "batsman\n",
            "known\n",
            "calm\n",
            "captainci\n",
            "abil\n",
            "finish\n",
            "match\n",
            "tight\n",
            "situat\n",
            "also\n",
            "current\n",
            "captain\n",
            "chennai\n",
            "super\n",
            "king\n",
            "indian\n",
            "premier\n",
            "leagu\n",
            "born\n",
            "ranchi\n",
            "bihar\n",
            "jharkhand\n",
            "except\n",
            "wicketkeep\n",
            "skill\n",
            "allow\n",
            "becom\n",
            "regular\n",
            "wicketkeep\n",
            "commando\n",
            "cricket\n",
            "club\n",
            "pick\n",
            "season\n",
            "vinoo\n",
            "mankad\n",
            "trophi\n",
            "championship\n",
            "perform\n",
            "well\n",
            "work\n",
            "travel\n",
            "ticket\n",
            "examin\n",
            "kharagpur\n",
            "railway\n",
            "station\n",
            "south\n",
            "eastern\n",
            "railway\n",
            "midnapor\n",
            "west\n",
            "bengal\n",
            "indian\n",
            "domest\n",
            "cricket\n",
            "play\n",
            "bihar\n",
            "jharkhand\n",
            "cricket\n",
            "team\n",
            "dhoni\n",
            "perform\n",
            "season\n",
            "includ\n",
            "three\n",
            "half\n",
            "centuri\n",
            "ranji\n",
            "trophi\n",
            "coupl\n",
            "half\n",
            "centuri\n",
            "deodhar\n",
            "trophi\n",
            "start\n",
            "gain\n",
            "recognit\n",
            "lower\n",
            "order\n",
            "contribut\n",
            "well\n",
            "hard\n",
            "hit\n",
            "bat\n",
            "style\n"
          ]
        }
      ]
    },
    {
      "cell_type": "markdown",
      "source": [
        "## Lammatization"
      ],
      "metadata": {
        "id": "YZ6pPR4Flt8j"
      }
    },
    {
      "cell_type": "code",
      "source": [
        "lammtizer=wl()\n",
        "nltk.download('wordnet')"
      ],
      "metadata": {
        "id": "_pCwVdr7l-RL",
        "colab": {
          "base_uri": "https://localhost:8080/"
        },
        "outputId": "79e9eb81-fd25-497f-f70c-8f8c34d3c643"
      },
      "execution_count": 35,
      "outputs": [
        {
          "output_type": "stream",
          "name": "stderr",
          "text": [
            "[nltk_data] Downloading package wordnet to /root/nltk_data...\n",
            "[nltk_data]   Package wordnet is already up-to-date!\n"
          ]
        },
        {
          "output_type": "execute_result",
          "data": {
            "text/plain": [
              "True"
            ]
          },
          "metadata": {},
          "execution_count": 35
        }
      ]
    },
    {
      "cell_type": "code",
      "source": [
        "\n",
        "\n",
        "for i in corpus:\n",
        "  word=nltk.word_tokenize(i)\n",
        "  for j in word:\n",
        "    if j not in set(stopwords.words('english')):\n",
        "      print(lammtizer.lemmatize(j))"
      ],
      "metadata": {
        "id": "L7knWreqnuti",
        "colab": {
          "base_uri": "https://localhost:8080/"
        },
        "outputId": "950e172a-6af5-4ce0-dfad-67303f43974b"
      },
      "execution_count": 36,
      "outputs": [
        {
          "output_type": "stream",
          "name": "stdout",
          "text": [
            "mahendra\n",
            "singh\n",
            "dhoni\n",
            "indian\n",
            "professional\n",
            "cricketer\n",
            "captain\n",
            "indian\n",
            "national\n",
            "team\n",
            "limited\n",
            "over\n",
            "format\n",
            "test\n",
            "cricket\n",
            "dhoni\n",
            "widely\n",
            "considered\n",
            "one\n",
            "greatest\n",
            "cricket\n",
            "captain\n",
            "wicket\n",
            "keeper\n",
            "batsman\n",
            "finisher\n",
            "history\n",
            "cricket\n",
            "play\n",
            "right\n",
            "handed\n",
            "wicket\n",
            "keeper\n",
            "batsman\n",
            "known\n",
            "calm\n",
            "captaincy\n",
            "ability\n",
            "finish\n",
            "match\n",
            "tight\n",
            "situation\n",
            "also\n",
            "current\n",
            "captain\n",
            "chennai\n",
            "super\n",
            "king\n",
            "indian\n",
            "premier\n",
            "league\n",
            "born\n",
            "ranchi\n",
            "bihar\n",
            "jharkhand\n",
            "exceptional\n",
            "wicketkeeping\n",
            "skill\n",
            "allowed\n",
            "become\n",
            "regular\n",
            "wicketkeeper\n",
            "commando\n",
            "cricket\n",
            "club\n",
            "picked\n",
            "season\n",
            "vinoo\n",
            "mankad\n",
            "trophy\n",
            "championship\n",
            "performed\n",
            "well\n",
            "worked\n",
            "travelling\n",
            "ticket\n",
            "examiner\n",
            "kharagpur\n",
            "railway\n",
            "station\n",
            "south\n",
            "eastern\n",
            "railway\n",
            "midnapore\n",
            "west\n",
            "bengal\n",
            "indian\n",
            "domestic\n",
            "cricket\n",
            "played\n",
            "bihar\n",
            "jharkhand\n",
            "cricket\n",
            "team\n",
            "dhoni\n",
            "performance\n",
            "season\n",
            "included\n",
            "three\n",
            "half\n",
            "century\n",
            "ranji\n",
            "trophy\n",
            "couple\n",
            "half\n",
            "century\n",
            "deodhar\n",
            "trophy\n",
            "started\n",
            "gaining\n",
            "recognition\n",
            "lower\n",
            "order\n",
            "contribution\n",
            "well\n",
            "hard\n",
            "hitting\n",
            "batting\n",
            "style\n"
          ]
        }
      ]
    },
    {
      "cell_type": "markdown",
      "source": [
        "#BOW"
      ],
      "metadata": {
        "id": "ewTnf6G764Gp"
      }
    },
    {
      "cell_type": "code",
      "source": [
        "final=[]\n",
        "for i in range(len(senc)):\n",
        "  review=re.sub('[^a-zA-Z]',' ',senc[i])\n",
        "  review=review.lower()\n",
        "  review=review.split()\n",
        "  review=[lammtizer.lemmatize(word) for word in review if not word in set(stopwords.words('english'))]\n",
        "  review=' '.join(review)\n",
        "  final.append(review)\n"
      ],
      "metadata": {
        "id": "P57SUMez7LQq"
      },
      "execution_count": null,
      "outputs": []
    },
    {
      "cell_type": "code",
      "source": [
        "final\n"
      ],
      "metadata": {
        "colab": {
          "base_uri": "https://localhost:8080/"
        },
        "id": "1Q5-m02Pd6Yh",
        "outputId": "ba975e8d-13c6-4a84-b0ae-dcd19e0c471c"
      },
      "execution_count": 57,
      "outputs": [
        {
          "output_type": "execute_result",
          "data": {
            "text/plain": [
              "['mahendra singh dhoni indian professional cricketer',\n",
              " 'captain indian national team limited over format test cricket',\n",
              " 'dhoni widely considered one greatest cricket captain wicket keeper batsman finisher history cricket',\n",
              " 'play right handed wicket keeper batsman known calm captaincy ability finish match tight situation',\n",
              " 'also current captain chennai super king indian premier league',\n",
              " 'born ranchi bihar jharkhand exceptional wicketkeeping skill allowed become regular wicketkeeper commando cricket club picked season vinoo mankad trophy championship performed well',\n",
              " 'worked travelling ticket examiner kharagpur railway station south eastern railway midnapore west bengal',\n",
              " 'indian domestic cricket played bihar jharkhand cricket team',\n",
              " 'dhoni performance season included three half century ranji trophy couple half century deodhar trophy started gaining recognition lower order contribution well hard hitting batting style']"
            ]
          },
          "metadata": {},
          "execution_count": 57
        }
      ]
    },
    {
      "cell_type": "code",
      "source": [
        "from sklearn.feature_extraction.text import CountVectorizer\n",
        "cv=CountVectorizer()\n",
        "cv=CountVectorizer(binary=True)"
      ],
      "metadata": {
        "id": "dD-r6HcPmOND"
      },
      "execution_count": 41,
      "outputs": []
    },
    {
      "cell_type": "code",
      "source": [
        "x=cv.fit_transform(final)"
      ],
      "metadata": {
        "id": "znvflwpz5J-t"
      },
      "execution_count": 42,
      "outputs": []
    },
    {
      "cell_type": "code",
      "source": [
        "cv.vocabulary_\n"
      ],
      "metadata": {
        "id": "cANyEJ6n5la6"
      },
      "execution_count": null,
      "outputs": []
    },
    {
      "cell_type": "code",
      "source": [
        "# fin=[]\n",
        "# for i in range(len(senc)):\n",
        "#   review=re.sub('[^a-zA-Z]',' ',senc[i])\n",
        "#   review=review.lower()\n",
        "#   word=nltk.word_tokenize(review)\n",
        "#   arr=[]\n",
        "#   for j in word:\n",
        "#     if j not in set(stopwords.words('english')):\n",
        "#       arr.append(lammtizer.lemmatize(j))\n",
        "#   review=' '.join(arr)\n",
        "#   fin.append(review)\n",
        "\n",
        "# **alternative of**\n",
        "\n",
        "# final=[]\n",
        "# for i in range(len(senc)):\n",
        "#   review=re.sub('[^a-zA-Z]',' ',senc[i])\n",
        "#   review=review.lower()\n",
        "#   review=review.split()\n",
        "#   review=[lammtizer.lemmatize(word) for word in review if not word in set(stopwords.words('english'))]\n",
        "#   review=' '.join(review)\n",
        "#   final.append(review)"
      ],
      "metadata": {
        "id": "dLFKg3eG5qFJ"
      },
      "execution_count": 77,
      "outputs": []
    },
    {
      "cell_type": "code",
      "source": [],
      "metadata": {
        "id": "4nsQOzY4iPf-"
      },
      "execution_count": 73,
      "outputs": []
    },
    {
      "cell_type": "code",
      "source": [],
      "metadata": {
        "id": "vA1lnet8jusJ"
      },
      "execution_count": null,
      "outputs": []
    }
  ]
}