{
  "nbformat": 4,
  "nbformat_minor": 0,
  "metadata": {
    "colab": {
      "provenance": [],
      "gpuType": "T4",
      "authorship_tag": "ABX9TyNcpNo/WoC/riYzDzNi64Zz",
      "include_colab_link": true
    },
    "kernelspec": {
      "name": "python3",
      "display_name": "Python 3"
    },
    "language_info": {
      "name": "python"
    },
    "accelerator": "GPU"
  },
  "cells": [
    {
      "cell_type": "markdown",
      "metadata": {
        "id": "view-in-github",
        "colab_type": "text"
      },
      "source": [
        "<a href=\"https://colab.research.google.com/github/darshbaxi/Tensorflow-Practice/blob/main/important__function.ipynb\" target=\"_parent\"><img src=\"https://colab.research.google.com/assets/colab-badge.svg\" alt=\"Open In Colab\"/></a>"
      ]
    },
    {
      "cell_type": "code",
      "execution_count": 21,
      "metadata": {
        "id": "JvY5H3yk7b-1"
      },
      "outputs": [],
      "source": [
        "import cv2\n",
        "from google.colab.patches import cv2_imshow"
      ]
    },
    {
      "cell_type": "code",
      "source": [
        "img =cv2.imread('/content/picai.pngai.png')\n",
        "cv2_imshow(img)\n"
      ],
      "metadata": {
        "id": "_SMnLb2K7gL8"
      },
      "execution_count": null,
      "outputs": []
    },
    {
      "cell_type": "code",
      "source": [
        "\n",
        "\n",
        "# converting to gray\n",
        "gray=cv2.cvtColor(img,cv2.COLOR_BGR2GRAY)\n"
      ],
      "metadata": {
        "id": "vK0Ikzp_7sVx"
      },
      "execution_count": 17,
      "outputs": []
    },
    {
      "cell_type": "code",
      "source": [
        "\n",
        "cv2_imshow(gray)"
      ],
      "metadata": {
        "id": "8r7SNSp-73se"
      },
      "execution_count": null,
      "outputs": []
    },
    {
      "cell_type": "code",
      "source": [
        "blur=cv2.GaussianBlur(img,(5,5),cv2.BORDER_DEFAULT)"
      ],
      "metadata": {
        "id": "P_xy1wuH9kxL"
      },
      "execution_count": 24,
      "outputs": []
    },
    {
      "cell_type": "code",
      "source": [
        "cv2_imshow(blur)"
      ],
      "metadata": {
        "id": "lKA9akkp-E2e"
      },
      "execution_count": null,
      "outputs": []
    },
    {
      "cell_type": "code",
      "source": [
        "canny=cv2.Canny(img,125,175)"
      ],
      "metadata": {
        "id": "aD1w5fFT-RIB"
      },
      "execution_count": null,
      "outputs": []
    },
    {
      "cell_type": "code",
      "source": [],
      "metadata": {
        "id": "zS_jK5X1_DaG"
      },
      "execution_count": null,
      "outputs": []
    }
  ]
}